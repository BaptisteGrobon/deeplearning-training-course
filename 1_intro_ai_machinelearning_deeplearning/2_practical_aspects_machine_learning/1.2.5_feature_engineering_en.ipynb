{
 "cells": [
  {
   "cell_type": "code",
   "execution_count": 1,
   "metadata": {
    "scrolled": true
   },
   "outputs": [
    {
     "data": {
      "text/html": [
       "<style>div.item {\n",
       "    vertical-align: bottom;\n",
       "    text-align: center;\n",
       "}\n",
       "img {\n",
       "    background-color: white;\n",
       "}\n",
       ".caption {\n",
       "    display: block;\n",
       "}\n",
       "\n",
       "/* Three image containers (use 25% for four, and 50% for two, etc) */\n",
       ".column {\n",
       "  float: left;\n",
       "  width: 50%;\n",
       "  padding: 5px;\n",
       "}\n",
       "\n",
       "/* Clear floats after image containers */\n",
       ".row::after {\n",
       "  content: \"\";\n",
       "  clear: both;\n",
       "  display: table;\n",
       "}\n",
       "</style>"
      ],
      "text/plain": [
       "<IPython.core.display.HTML object>"
      ]
     },
     "execution_count": 1,
     "metadata": {},
     "output_type": "execute_result"
    }
   ],
   "source": [
    "import utils\n",
    "import warnings\n",
    "\n",
    "warnings.filterwarnings('ignore')\n",
    "utils.set_css_style('style.css')"
   ]
  },
  {
   "cell_type": "markdown",
   "metadata": {},
   "source": [
    "# 5. Feature Engineering Techniques\n",
    "\n",
    "Algorithms require features with some specific characteristic to work properly. Here, the need for feature engineering arises. Feature engineering efforts mainly have two goals:\n",
    "\n",
    "* Preparing the proper input dataset, compatible with the machine learning algorithm requirements.\n",
    "* Improving the performance of machine learning models.\n",
    "\n",
    "> The features you use influence more than everything else the result. No algorithm alone, to my knowledge, can supplement the information gain given by correct feature engineering.\n",
    "— Luca Massaron\n",
    "\n",
    "According to a survey in Forbes, data scientists spend 80% of their time on data preparation.\n",
    "\n",
    "<div class=\"item\">\n",
    "    <img src=\"figures/forbes.png\" alt=\"forbes\" width=\"600px\"/>\n",
    "    <span class=\"caption\">Forbes Survey (<a href=\"https://www.forbes.com/sites/gilpress/2016/03/23/data-preparation-most-time-consuming-least-enjoyable-data-science-task-survey-says/\">Source</a>)\n",
    "    </span>\n",
    "</div>"
   ]
  },
  {
   "cell_type": "markdown",
   "metadata": {},
   "source": [
    "## 5.1. Data leakage\n",
    "\n",
    "When training a machine learning model, we normally aim for the model that scores the highest on some metric, such as accuracy. Naturally, then, when we train a model that appears to score very well on our validation or test data-set, we select it as a well-performing model and productionize/finalize it.\n",
    "However, have you ever encountered a situation in which a model performs well during testing, but fails to achieve the same level of performance during real-world usage? For example, has your model reached 99% accuracy during testing, but as soon as it is productionized and acts on real data, it fails to get anywhere near that level of performance?\n",
    "Such a discrepancy between test performance and real-world performance is often explained by a phenomenon called **data leakage**.\n",
    "\n",
    "Data leakage refers to a mistake make by the creator of a machine learning model in which they accidentally share information between the test and training data-sets. Typically, when splitting a data-set into testing and training sets, the goal is to ensure that no data is shared between the two. This is because the test set’s purpose is to simulate real-world, unseen data.\n",
    "\n",
    "\n",
    "A very common error that people make is to leak information in the data **pre-processing step** of machine learning. It is essential that these transformations only have knowledge of the training set, even though they are applied to the test set as well. For example, if you decide that you want to run PCA as a pre-processing step, you should fit your PCA model on only the training set. Then, to apply it to your test set, you would only call its transform method (in the case of a `scikit-learn` model) on the test set. If, instead, you fit your pre-processor on the entire data-set, you will leak information from the test set, since the parameters of the pre-processing model will be fitted with knowledge of the test set.\n",
    "\n"
   ]
  },
  {
   "cell_type": "markdown",
   "metadata": {},
   "source": [
    "In this section, we will use the loans prediction dataset provided in the following [competition](https://datahack.analyticsvidhya.com/contest/practice-problem-loan-prediction-iii/) organized by Analytics Vidhya in order to explore some **popular feature engineering techniques**. \n",
    "\n",
    "In python, scikit-learn library has a pre-built functionality under `sklearn.preprocessing`. There are many more options for pre-processing which we’ll explore.\n",
    "\n",
    "Now, lets get started by importing important packages and the data set."
   ]
  },
  {
   "cell_type": "code",
   "execution_count": 2,
   "metadata": {},
   "outputs": [],
   "source": [
    "import pandas as pd\n",
    "import numpy as np\n",
    "import matplotlib.pyplot as plt\n",
    "import re\n",
    "from sklearn.model_selection import train_test_split\n",
    "from sklearn.preprocessing import StandardScaler\n",
    "\n",
    "data = pd.read_csv(\"data/data_loans.csv\")"
   ]
  },
  {
   "cell_type": "code",
   "execution_count": 3,
   "metadata": {
    "scrolled": true
   },
   "outputs": [
    {
     "data": {
      "text/html": [
       "<div>\n",
       "<style scoped>\n",
       "    .dataframe tbody tr th:only-of-type {\n",
       "        vertical-align: middle;\n",
       "    }\n",
       "\n",
       "    .dataframe tbody tr th {\n",
       "        vertical-align: top;\n",
       "    }\n",
       "\n",
       "    .dataframe thead th {\n",
       "        text-align: right;\n",
       "    }\n",
       "</style>\n",
       "<table border=\"1\" class=\"dataframe\">\n",
       "  <thead>\n",
       "    <tr style=\"text-align: right;\">\n",
       "      <th></th>\n",
       "      <th>LoanID</th>\n",
       "      <th>Gender</th>\n",
       "      <th>Married</th>\n",
       "      <th>Dependents</th>\n",
       "      <th>Education</th>\n",
       "      <th>SelfEmployed</th>\n",
       "      <th>ApplicantIncome</th>\n",
       "      <th>CoapplicantIncome</th>\n",
       "      <th>LoanAmount</th>\n",
       "      <th>LoanAmountTerm</th>\n",
       "      <th>CreditHistory</th>\n",
       "      <th>PropertyArea</th>\n",
       "      <th>LoanStatus</th>\n",
       "    </tr>\n",
       "  </thead>\n",
       "  <tbody>\n",
       "    <tr>\n",
       "      <th>0</th>\n",
       "      <td>LP001002</td>\n",
       "      <td>Male</td>\n",
       "      <td>No</td>\n",
       "      <td>0</td>\n",
       "      <td>Graduate</td>\n",
       "      <td>No</td>\n",
       "      <td>5849</td>\n",
       "      <td>0.0</td>\n",
       "      <td>NaN</td>\n",
       "      <td>360.0</td>\n",
       "      <td>1.0</td>\n",
       "      <td>Urban</td>\n",
       "      <td>Y</td>\n",
       "    </tr>\n",
       "    <tr>\n",
       "      <th>1</th>\n",
       "      <td>LP001003</td>\n",
       "      <td>Male</td>\n",
       "      <td>Yes</td>\n",
       "      <td>1</td>\n",
       "      <td>Graduate</td>\n",
       "      <td>No</td>\n",
       "      <td>4583</td>\n",
       "      <td>1508.0</td>\n",
       "      <td>128.0</td>\n",
       "      <td>360.0</td>\n",
       "      <td>1.0</td>\n",
       "      <td>Rural</td>\n",
       "      <td>N</td>\n",
       "    </tr>\n",
       "    <tr>\n",
       "      <th>2</th>\n",
       "      <td>LP001005</td>\n",
       "      <td>Male</td>\n",
       "      <td>Yes</td>\n",
       "      <td>0</td>\n",
       "      <td>Graduate</td>\n",
       "      <td>Yes</td>\n",
       "      <td>3000</td>\n",
       "      <td>0.0</td>\n",
       "      <td>66.0</td>\n",
       "      <td>360.0</td>\n",
       "      <td>1.0</td>\n",
       "      <td>Urban</td>\n",
       "      <td>Y</td>\n",
       "    </tr>\n",
       "    <tr>\n",
       "      <th>3</th>\n",
       "      <td>LP001006</td>\n",
       "      <td>Male</td>\n",
       "      <td>Yes</td>\n",
       "      <td>0</td>\n",
       "      <td>Not Graduate</td>\n",
       "      <td>No</td>\n",
       "      <td>2583</td>\n",
       "      <td>2358.0</td>\n",
       "      <td>120.0</td>\n",
       "      <td>360.0</td>\n",
       "      <td>1.0</td>\n",
       "      <td>Urban</td>\n",
       "      <td>Y</td>\n",
       "    </tr>\n",
       "    <tr>\n",
       "      <th>4</th>\n",
       "      <td>LP001008</td>\n",
       "      <td>Male</td>\n",
       "      <td>No</td>\n",
       "      <td>0</td>\n",
       "      <td>Graduate</td>\n",
       "      <td>No</td>\n",
       "      <td>6000</td>\n",
       "      <td>0.0</td>\n",
       "      <td>141.0</td>\n",
       "      <td>360.0</td>\n",
       "      <td>1.0</td>\n",
       "      <td>Urban</td>\n",
       "      <td>Y</td>\n",
       "    </tr>\n",
       "  </tbody>\n",
       "</table>\n",
       "</div>"
      ],
      "text/plain": [
       "     LoanID Gender Married Dependents     Education SelfEmployed  \\\n",
       "0  LP001002   Male      No          0      Graduate           No   \n",
       "1  LP001003   Male     Yes          1      Graduate           No   \n",
       "2  LP001005   Male     Yes          0      Graduate          Yes   \n",
       "3  LP001006   Male     Yes          0  Not Graduate           No   \n",
       "4  LP001008   Male      No          0      Graduate           No   \n",
       "\n",
       "   ApplicantIncome  CoapplicantIncome  LoanAmount  LoanAmountTerm  \\\n",
       "0             5849                0.0         NaN           360.0   \n",
       "1             4583             1508.0       128.0           360.0   \n",
       "2             3000                0.0        66.0           360.0   \n",
       "3             2583             2358.0       120.0           360.0   \n",
       "4             6000                0.0       141.0           360.0   \n",
       "\n",
       "   CreditHistory PropertyArea LoanStatus  \n",
       "0            1.0        Urban          Y  \n",
       "1            1.0        Rural          N  \n",
       "2            1.0        Urban          Y  \n",
       "3            1.0        Urban          Y  \n",
       "4            1.0        Urban          Y  "
      ]
     },
     "execution_count": 3,
     "metadata": {},
     "output_type": "execute_result"
    }
   ],
   "source": [
    "data.head()"
   ]
  },
  {
   "cell_type": "code",
   "execution_count": 4,
   "metadata": {},
   "outputs": [
    {
     "data": {
      "text/plain": [
       "(614, 13)"
      ]
     },
     "execution_count": 4,
     "metadata": {},
     "output_type": "execute_result"
    }
   ],
   "source": [
    "data.shape"
   ]
  },
  {
   "cell_type": "markdown",
   "metadata": {},
   "source": [
    "Let's seperate our features from our target variable and split the dataframe into 2 datasets."
   ]
  },
  {
   "cell_type": "code",
   "execution_count": 5,
   "metadata": {},
   "outputs": [
    {
     "name": "stdout",
     "output_type": "stream",
     "text": [
      "Training set:  (491, 11) (491,)\n",
      "Testing set:  (123, 11) (123,)\n"
     ]
    }
   ],
   "source": [
    "y, X = data.pop(\"LoanStatus\"), data\n",
    "X.pop(\"LoanID\")\n",
    "\n",
    "# Split the 2 data into 2 sets\n",
    "X_train, X_test, y_train, y_test = train_test_split(X, y, test_size=0.2, random_state=1)\n",
    "print(\"Training set: \", X_train.shape, y_train.shape)\n",
    "print(\"Testing set: \", X_test.shape, y_test.shape)"
   ]
  },
  {
   "cell_type": "markdown",
   "metadata": {},
   "source": [
    "## 5.2. Missing values imputation\n",
    "\n",
    "Handling missing values is an essential preprocessing task that can drastically deteriorate your model when not done with sufficient care. Reasons for the missing values might be human errors, interruptions in the data flow, privacy concerns, and so on. Whatever is the reason, missing values affect the performance of the machine learning models.\n",
    "\n",
    "A few questions should come up when handling missing values:\n",
    "\n",
    "> Do I have missing values? How are they expressed in the data? Should I withhold samples with missing values? Or should I replace them? If so, which values should they be replaced with?\n",
    "\n",
    "Some machine learning platforms automatically drop the rows which include missing values in the model training phase and it decreases the model performance because of the reduced training set size. On the other hand, most of the algorithms do not accept datasets with missing values and gives an error.\n",
    "\n",
    "Before starting handling missing values it is important to identify the missing values and know with which value they are replaced. You should be able to find this out by combining the metadata information with exploratory analysis.\n",
    "Once you know a bit more about the missing data you have to decide whether or not you want to keep entries with missing data.\n",
    "\n"
   ]
  },
  {
   "cell_type": "markdown",
   "metadata": {},
   "source": [
    "Number of missing values in each column:"
   ]
  },
  {
   "cell_type": "code",
   "execution_count": 6,
   "metadata": {},
   "outputs": [
    {
     "data": {
      "text/plain": [
       "Gender                9\n",
       "Married               2\n",
       "Dependents           10\n",
       "Education             0\n",
       "SelfEmployed         24\n",
       "ApplicantIncome       0\n",
       "CoapplicantIncome     0\n",
       "LoanAmount           17\n",
       "LoanAmountTerm       10\n",
       "CreditHistory        44\n",
       "PropertyArea          0\n",
       "dtype: int64"
      ]
     },
     "execution_count": 6,
     "metadata": {},
     "output_type": "execute_result"
    }
   ],
   "source": [
    "X_train.isna().sum(axis=0)"
   ]
  },
  {
   "cell_type": "markdown",
   "metadata": {},
   "source": [
    "The most simple solution to the missing values is to drop the rows or the entire column. There is not an optimum threshold for dropping but you can use 50% as an example value and try to drop the rows and columns which have missing values with higher than this threshold. In our examples, we don't have such rows and columns."
   ]
  },
  {
   "cell_type": "markdown",
   "metadata": {},
   "source": [
    "The testing set should represent unseen data, that's why when doing feature engineering, we will apply exactly the same transformations applied to the training set. "
   ]
  },
  {
   "cell_type": "code",
   "execution_count": 7,
   "metadata": {},
   "outputs": [],
   "source": [
    "threshold = 0.5\n",
    "# Dropping columns with missing value rate higher than threshold in the training set\n",
    "X_train = X_train[X_train.columns[X_train.isnull().mean() < threshold]]\n",
    "# Aligning the test dataset columns with the train dataset\n",
    "X_train, X_test = X_train.align(X_test, join='left', axis=1)\n",
    "\n",
    "# Dropping rows with missing value rate higher than threshold\n",
    "X_train = X_train.loc[X_train.isnull().mean(axis=1) < threshold]\n",
    "X_test = X_test.loc[X_test.isnull().mean(axis=1) < threshold]"
   ]
  },
  {
   "cell_type": "code",
   "execution_count": 8,
   "metadata": {},
   "outputs": [
    {
     "name": "stdout",
     "output_type": "stream",
     "text": [
      "Training set:  (491, 11) (491,)\n",
      "Testing set:  (123, 11) (123,)\n"
     ]
    }
   ],
   "source": [
    "print(\"Training set: \", X_train.shape, y_train.shape)\n",
    "print(\"Testing set: \", X_test.shape, y_test.shape)"
   ]
  },
  {
   "cell_type": "markdown",
   "metadata": {},
   "source": [
    "### 5.2.1. Numerical imputation\n",
    "Imputation is a more preferable option rather than dropping because it preserves the data size. However, there is an important selection of what you impute to the missing values. \n",
    "\n",
    "Except for the case of having a default value for missing values, a popular imputation method is to use the medians of the columns. As the averages of the columns are sensitive to the outlier values, while medians are more solid in this respect.\n"
   ]
  },
  {
   "cell_type": "markdown",
   "metadata": {},
   "source": [
    "Columns with missing values:"
   ]
  },
  {
   "cell_type": "code",
   "execution_count": 9,
   "metadata": {},
   "outputs": [
    {
     "data": {
      "text/plain": [
       "['Gender',\n",
       " 'Married',\n",
       " 'Dependents',\n",
       " 'SelfEmployed',\n",
       " 'LoanAmount',\n",
       " 'LoanAmountTerm',\n",
       " 'CreditHistory']"
      ]
     },
     "execution_count": 9,
     "metadata": {},
     "output_type": "execute_result"
    }
   ],
   "source": [
    "# columns with missing values\n",
    "missing_columns = X_train.isna().sum()[X_train.isna().sum()>0].index.values.tolist()\n",
    "missing_columns"
   ]
  },
  {
   "cell_type": "markdown",
   "metadata": {},
   "source": [
    "let's plot a histogram of our numerical columns "
   ]
  },
  {
   "cell_type": "code",
   "execution_count": 10,
   "metadata": {},
   "outputs": [
    {
     "data": {
      "image/png": "[encoded data removed]",
      "text/plain": [
       "<Figure size 792x792 with 6 Axes>"
      ]
     },
     "metadata": {
      "needs_background": "light"
     },
     "output_type": "display_data"
    }
   ],
   "source": [
    "# numerical columns\n",
    "numeric_columns = X_train.dtypes[((X_train.dtypes==\"float64\")|(X_train.dtypes==\"int64\"))].index.values.tolist()\n",
    "\n",
    "#plot a histogram of numerical columns with missing values\n",
    "X_train[numeric_columns].hist(figsize=[11,11]);"
   ]
  },
  {
   "cell_type": "markdown",
   "metadata": {},
   "source": [
    "Let's impute missing values in column `CreditHistory` with 1, and the 2 other numercial columns `LoanAmount` & `LoanAmountTerm` with the median."
   ]
  },
  {
   "cell_type": "code",
   "execution_count": 11,
   "metadata": {},
   "outputs": [],
   "source": [
    "from sklearn.impute import SimpleImputer\n",
    "\n",
    "# Let's define a constant imputer in order to impute missing values in CreditHistory with 1.\n",
    "imp_constant = SimpleImputer(missing_values=np.nan, strategy='constant', fill_value=1)\n",
    "X_train[[\"CreditHistory\"]] = imp_constant.fit_transform(X_train[[\"CreditHistory\"]])\n",
    "X_test[[\"CreditHistory\"]] = imp_constant.transform(X_test[[\"CreditHistory\"]])\n",
    "\n",
    "# Let's define an imputer with median strategy in order to impute missing values in LoanAmount and LoanAmountTerm\n",
    "cols = [\"LoanAmount\", \"LoanAmountTerm\"]\n",
    "imp_median = SimpleImputer(missing_values=np.nan, strategy='median')\n",
    "X_train[cols] = imp_median.fit_transform(X_train[cols])\n",
    "X_test[cols] = imp_median.transform(X_test[cols])"
   ]
  },
  {
   "cell_type": "markdown",
   "metadata": {},
   "source": [
    "Number of missing values in each column:"
   ]
  },
  {
   "cell_type": "code",
   "execution_count": 12,
   "metadata": {
    "scrolled": true
   },
   "outputs": [
    {
     "data": {
      "text/plain": [
       "Gender                9\n",
       "Married               2\n",
       "Dependents           10\n",
       "Education             0\n",
       "SelfEmployed         24\n",
       "ApplicantIncome       0\n",
       "CoapplicantIncome     0\n",
       "LoanAmount            0\n",
       "LoanAmountTerm        0\n",
       "CreditHistory         0\n",
       "PropertyArea          0\n",
       "dtype: int64"
      ]
     },
     "execution_count": 12,
     "metadata": {},
     "output_type": "execute_result"
    }
   ],
   "source": [
    "X_train.isna().sum()"
   ]
  },
  {
   "cell_type": "markdown",
   "metadata": {},
   "source": [
    "### 5.2.2. Categorical imputation\n",
    "\n",
    "Replacing the missing values with the maximum occurred value in a column is a good option for handling categorical columns. But if you think the values in the column are distributed uniformly and there is not a dominant value, imputing a category like “Other” might be more sensible, because in such a case, your imputation is likely to converge a random selection.\n",
    "\n"
   ]
  },
  {
   "cell_type": "code",
   "execution_count": 13,
   "metadata": {},
   "outputs": [
    {
     "data": {
      "image/png": "[encoded data removed]",
      "text/plain": [
       "<Figure size 1152x576 with 6 Axes>"
      ]
     },
     "metadata": {
      "needs_background": "light"
     },
     "output_type": "display_data"
    }
   ],
   "source": [
    "categorical_columns = X_train.dtypes[((X_train.dtypes==\"object\"))].index.values.tolist()\n",
    "\n",
    "fig, ax = plt.subplots(2, int(len(categorical_columns)/2), figsize=(16,8))\n",
    "for i, categorical_col in enumerate(X_train[categorical_columns]):\n",
    "    X_train[categorical_col].value_counts().plot(kind=\"bar\", ax=sum(ax.tolist(), [])[i]).set_title(categorical_col)\n",
    "fig.show()"
   ]
  },
  {
   "cell_type": "markdown",
   "metadata": {},
   "source": [
    "Let's impute the missing values in the columns `Married`,` Sex`, `Dependent` with the dominant value (most frequent), while in the column` SelfEmployed` with a constant \"UNK\"."
   ]
  },
  {
   "cell_type": "code",
   "execution_count": 14,
   "metadata": {},
   "outputs": [],
   "source": [
    "# Imputing missing values in columns Married, Gender, Dependents with the dominant (most frequent) value\n",
    "cols = [\"Married\", \"Gender\", \"Dependents\"]\n",
    "imp_most_frequent = SimpleImputer(missing_values=np.nan, strategy='most_frequent')\n",
    "X_train[cols] = imp_most_frequent.fit_transform(X_train[cols])\n",
    "X_test[cols] = imp_most_frequent.transform(X_test[cols])\n",
    "\n",
    "# Imputing column column SelfEmployed with a constant 'UNK'\n",
    "imp_constant = SimpleImputer(missing_values=np.nan, strategy='constant', fill_value='UNK')\n",
    "X_train[[\"SelfEmployed\"]] = imp_constant.fit_transform(X_train[[\"SelfEmployed\"]])\n",
    "X_test[[\"SelfEmployed\"]] = imp_constant.transform(X_test[[\"SelfEmployed\"]])"
   ]
  },
  {
   "cell_type": "markdown",
   "metadata": {},
   "source": [
    "Number of missing values in each column:"
   ]
  },
  {
   "cell_type": "code",
   "execution_count": 15,
   "metadata": {
    "scrolled": true
   },
   "outputs": [
    {
     "data": {
      "text/plain": [
       "Gender               0\n",
       "Married              0\n",
       "Dependents           0\n",
       "Education            0\n",
       "SelfEmployed         0\n",
       "ApplicantIncome      0\n",
       "CoapplicantIncome    0\n",
       "LoanAmount           0\n",
       "LoanAmountTerm       0\n",
       "CreditHistory        0\n",
       "PropertyArea         0\n",
       "dtype: int64"
      ]
     },
     "execution_count": 15,
     "metadata": {},
     "output_type": "execute_result"
    }
   ],
   "source": [
    "X_train.isna().sum()"
   ]
  },
  {
   "cell_type": "markdown",
   "metadata": {},
   "source": [
    "## 5.3. Feature Scaling\n",
    "\n",
    "In most cases, the numerical features of the dataset do not have a certain range and they differ from each other. In real life, it is nonsense to expect age and income columns to have the same range. But from the machine learning point of view, how can these two columns be compared?\n",
    "\n",
    "Scaling solves this problem. The continuous features become identical in terms of the range, after a scaling process. This process is not mandatory for many algorithms, but it might be still nice to apply. However, the algorithms based on distance calculations such as k-NN or k-Means need to have scaled continuous features as model input.\n",
    "\n",
    "When features are on different scale ranges, gradient descent might take alot of time to converge. This is because $\\theta$ will descend quickly on small ranges and slowly on large ranges, and so will oscillate inefficiently down to the optimum when the variables are very uneven. We can speed up gradient descent by having each of our input values in roughly the same range. \n",
    "\n",
    "This is done by modifying the ranges of our input variables so that they are all the same. Ideally:\n",
    "\n",
    "\\begin{equation}\n",
    "−1 ≤ x_{(i)} ≤ 1\n",
    "\\end{equation}\n",
    "\n",
    "These aren't exact requirements; the goal is to get all input variables into roughly the same range. \n",
    "\n",
    "Another reason why feature scaling is applied is that in some machine learning algorithms, objective functions will not work properly without normalization. For example, many regressors calculate the distance between two points by the Euclidean distance. If one of the features has a broad range of values, the distance will be governed by this particular feature. Therefore, the range of all features should be normalized so that each feature contributes approximately proportionately to the final distance.\n",
    "\n",
    "There are many techniques for feature scaling, let's explore some of them:\n",
    "\n",
    "###  5.3.1. Min-Max Normalization (Rescaling)\n",
    "\n",
    "Also known as **min-max scaling** or **min-max normalization**, is the simplest method and consists of rescaling the range of features to scale the range in $[0, 1]$ or $[−1, 1]$. Selecting the target range depends on the nature of the data. The general formula for a min-max of $[0, 1]$ is given as:\n",
    "\n",
    "\\begin{equation}\n",
    "{\\displaystyle x'={\\frac {x-{\\text{min}}(x)}{{\\text{max}}(x)-{\\text{min}}(x)}}}\n",
    "\\end{equation}\n",
    "\n",
    "where ${\\displaystyle x}$ is an original value, ${\\displaystyle x'}$ is the normalized value. For example, suppose that we have the students' weight data, and the students' weights span [160 pounds, 200 pounds]. To rescale this data, we first subtract 160 from each student's weight and divide the result by 40 (the difference between the maximum and minimum weights).\n",
    "\n",
    "### 5.3.2. Mean Normalization\n",
    "\n",
    "\\begin{equation}\n",
    "{\\displaystyle x'={\\frac {x-{\\text{average}}(x)}{{\\text{max}}(x)-{\\text{min}}(x)}}}\n",
    "\\end{equation}\n",
    "\n",
    "where ${\\displaystyle x}$ is an original value, ${\\displaystyle x'}$ is the normalized value. There is another form of the means normalization which is when we divide by the standard deviation which is also called standardization.\n",
    "\n",
    "\n",
    "### 5.3.3. Z-score Normalization (Standardization)\n",
    "\n",
    "Feature standardization makes the values of each feature in the data have zero-mean (when subtracting the mean in the numerator) and unit-variance. This method is widely used for normalization in many machine learning algorithms (e.g., support vector machines, logistic regression, and artificial neural networks). The general method of calculation is to determine the distribution mean and standard deviation for each feature. Next, we subtract the mean from each feature. Then we divide the values (mean is already subtracted) of each feature by its standard deviation.\n",
    "\n",
    "\\begin{equation}\n",
    "{\\displaystyle x'={\\frac {x-{\\bar {x}}}{\\sigma }}}\n",
    "\\end{equation}\n",
    "\n",
    "Where ${\\displaystyle x}$ is the original feature vector, ${\\displaystyle {\\bar {x}}={\\text{average}}(x)}$ is the mean of that feature vector, and ${\\displaystyle \\sigma }$ is its standard deviation."
   ]
  },
  {
   "cell_type": "markdown",
   "metadata": {},
   "source": [
    "`sklearn` provides a tool `MinMaxScaler` that will scale down all the features between 0 and 1. Mathematical formula for MinMaxScaler is:\n",
    "\n",
    "\\begin{equation}\n",
    "{\\displaystyle x'={\\frac {x-{\\text{min}}(x)}{{\\text{max}}(x)-{\\text{min}}(x)}}}\n",
    "\\end{equation}\n",
    "\n",
    "We will only scale the numerical columns."
   ]
  },
  {
   "cell_type": "code",
   "execution_count": 16,
   "metadata": {},
   "outputs": [],
   "source": [
    "from sklearn.preprocessing import MinMaxScaler\n",
    "mmc = MinMaxScaler()\n",
    "scaled_columns = [x for x in numeric_columns if x != 'CreditHistory']\n",
    "\n",
    "X_train[scaled_columns] = mmc.fit_transform(X_train[scaled_columns])\n",
    "X_test[scaled_columns] = mmc.transform(X_test[scaled_columns])"
   ]
  },
  {
   "cell_type": "code",
   "execution_count": 17,
   "metadata": {},
   "outputs": [
    {
     "data": {
      "image/png": "[encoded data removed]",
      "text/plain": [
       "<Figure size 792x792 with 6 Axes>"
      ]
     },
     "metadata": {
      "needs_background": "light"
     },
     "output_type": "display_data"
    }
   ],
   "source": [
    "#plot a histogram of numerical columns with missing values\n",
    "X_train[numeric_columns].hist(figsize=[11,11]);"
   ]
  },
  {
   "cell_type": "markdown",
   "metadata": {},
   "source": [
    "## 5.4. Label encoding\n",
    "\n",
    "In previous sections, we did the pre-processing for continuous numeric features. But, our data set has other features too such as Gender, Married, Dependents, SelfEmployed and Education. All these categorical features have string values. And algorithms work with numbers!\n",
    "\n",
    "If we feed the categorical features to a logistic regression model for example, we get an error saying that it cannot convert string to float. So, what’s actually happening here is that most learners in `sklearn` needs numeric arrays. Features having string values cannot be handled automatically.\n",
    "\n",
    "This encoding type is better for **ordinal categorical data** and if the **number of categorical features in the dataset** is huge, you may often use label encoding.\n",
    "\n",
    "`Sklearn` provides a very efficient tool for encoding the levels of a categorical features into numeric values. `LabelEncoder` encode labels with value between 0 and n_classes-1."
   ]
  },
  {
   "cell_type": "code",
   "execution_count": 18,
   "metadata": {},
   "outputs": [
    {
     "data": {
      "text/html": [
       "<div>\n",
       "<style scoped>\n",
       "    .dataframe tbody tr th:only-of-type {\n",
       "        vertical-align: middle;\n",
       "    }\n",
       "\n",
       "    .dataframe tbody tr th {\n",
       "        vertical-align: top;\n",
       "    }\n",
       "\n",
       "    .dataframe thead th {\n",
       "        text-align: right;\n",
       "    }\n",
       "</style>\n",
       "<table border=\"1\" class=\"dataframe\">\n",
       "  <thead>\n",
       "    <tr style=\"text-align: right;\">\n",
       "      <th></th>\n",
       "      <th>Gender</th>\n",
       "      <th>Married</th>\n",
       "      <th>Dependents</th>\n",
       "      <th>Education</th>\n",
       "      <th>SelfEmployed</th>\n",
       "      <th>ApplicantIncome</th>\n",
       "      <th>CoapplicantIncome</th>\n",
       "      <th>LoanAmount</th>\n",
       "      <th>LoanAmountTerm</th>\n",
       "      <th>CreditHistory</th>\n",
       "      <th>PropertyArea</th>\n",
       "    </tr>\n",
       "  </thead>\n",
       "  <tbody>\n",
       "    <tr>\n",
       "      <th>291</th>\n",
       "      <td>Male</td>\n",
       "      <td>Yes</td>\n",
       "      <td>2</td>\n",
       "      <td>Graduate</td>\n",
       "      <td>No</td>\n",
       "      <td>0.052566</td>\n",
       "      <td>0.000000</td>\n",
       "      <td>0.170767</td>\n",
       "      <td>0.74359</td>\n",
       "      <td>0.0</td>\n",
       "      <td>Semiurban</td>\n",
       "    </tr>\n",
       "    <tr>\n",
       "      <th>507</th>\n",
       "      <td>Male</td>\n",
       "      <td>No</td>\n",
       "      <td>0</td>\n",
       "      <td>Graduate</td>\n",
       "      <td>No</td>\n",
       "      <td>0.042461</td>\n",
       "      <td>0.000000</td>\n",
       "      <td>0.125904</td>\n",
       "      <td>0.74359</td>\n",
       "      <td>1.0</td>\n",
       "      <td>Urban</td>\n",
       "    </tr>\n",
       "    <tr>\n",
       "      <th>328</th>\n",
       "      <td>Female</td>\n",
       "      <td>Yes</td>\n",
       "      <td>0</td>\n",
       "      <td>Graduate</td>\n",
       "      <td>No</td>\n",
       "      <td>0.051738</td>\n",
       "      <td>0.058824</td>\n",
       "      <td>0.146165</td>\n",
       "      <td>0.74359</td>\n",
       "      <td>1.0</td>\n",
       "      <td>Urban</td>\n",
       "    </tr>\n",
       "    <tr>\n",
       "      <th>609</th>\n",
       "      <td>Female</td>\n",
       "      <td>No</td>\n",
       "      <td>0</td>\n",
       "      <td>Graduate</td>\n",
       "      <td>No</td>\n",
       "      <td>0.034014</td>\n",
       "      <td>0.000000</td>\n",
       "      <td>0.089725</td>\n",
       "      <td>0.74359</td>\n",
       "      <td>1.0</td>\n",
       "      <td>Rural</td>\n",
       "    </tr>\n",
       "    <tr>\n",
       "      <th>69</th>\n",
       "      <td>Female</td>\n",
       "      <td>No</td>\n",
       "      <td>0</td>\n",
       "      <td>Graduate</td>\n",
       "      <td>No</td>\n",
       "      <td>0.051330</td>\n",
       "      <td>0.000000</td>\n",
       "      <td>0.183792</td>\n",
       "      <td>0.74359</td>\n",
       "      <td>0.0</td>\n",
       "      <td>Semiurban</td>\n",
       "    </tr>\n",
       "  </tbody>\n",
       "</table>\n",
       "</div>"
      ],
      "text/plain": [
       "     Gender Married Dependents Education SelfEmployed  ApplicantIncome  \\\n",
       "291    Male     Yes          2  Graduate           No         0.052566   \n",
       "507    Male      No          0  Graduate           No         0.042461   \n",
       "328  Female     Yes          0  Graduate           No         0.051738   \n",
       "609  Female      No          0  Graduate           No         0.034014   \n",
       "69   Female      No          0  Graduate           No         0.051330   \n",
       "\n",
       "     CoapplicantIncome  LoanAmount  LoanAmountTerm  CreditHistory PropertyArea  \n",
       "291           0.000000    0.170767         0.74359            0.0    Semiurban  \n",
       "507           0.000000    0.125904         0.74359            1.0        Urban  \n",
       "328           0.058824    0.146165         0.74359            1.0        Urban  \n",
       "609           0.000000    0.089725         0.74359            1.0        Rural  \n",
       "69            0.000000    0.183792         0.74359            0.0    Semiurban  "
      ]
     },
     "execution_count": 18,
     "metadata": {},
     "output_type": "execute_result"
    }
   ],
   "source": [
    "X_train.head()"
   ]
  },
  {
   "cell_type": "markdown",
   "metadata": {},
   "source": [
    "Let's label encode binary catagorical columns only:"
   ]
  },
  {
   "cell_type": "code",
   "execution_count": 19,
   "metadata": {},
   "outputs": [],
   "source": [
    "from sklearn.preprocessing import LabelEncoder\n",
    "le = LabelEncoder()\n",
    "\n",
    "# Iterating over all the common columns in train and test\n",
    "for col in [\"Gender\", \"Married\", \"Education\"]:\n",
    "    X_train[col] = le.fit_transform(X_train[col])\n",
    "    X_test[col] = le.transform(X_test[col])"
   ]
  },
  {
   "cell_type": "code",
   "execution_count": 20,
   "metadata": {},
   "outputs": [
    {
     "data": {
      "text/html": [
       "<div>\n",
       "<style scoped>\n",
       "    .dataframe tbody tr th:only-of-type {\n",
       "        vertical-align: middle;\n",
       "    }\n",
       "\n",
       "    .dataframe tbody tr th {\n",
       "        vertical-align: top;\n",
       "    }\n",
       "\n",
       "    .dataframe thead th {\n",
       "        text-align: right;\n",
       "    }\n",
       "</style>\n",
       "<table border=\"1\" class=\"dataframe\">\n",
       "  <thead>\n",
       "    <tr style=\"text-align: right;\">\n",
       "      <th></th>\n",
       "      <th>Gender</th>\n",
       "      <th>Married</th>\n",
       "      <th>Dependents</th>\n",
       "      <th>Education</th>\n",
       "      <th>SelfEmployed</th>\n",
       "      <th>ApplicantIncome</th>\n",
       "      <th>CoapplicantIncome</th>\n",
       "      <th>LoanAmount</th>\n",
       "      <th>LoanAmountTerm</th>\n",
       "      <th>CreditHistory</th>\n",
       "      <th>PropertyArea</th>\n",
       "    </tr>\n",
       "  </thead>\n",
       "  <tbody>\n",
       "    <tr>\n",
       "      <th>291</th>\n",
       "      <td>1</td>\n",
       "      <td>1</td>\n",
       "      <td>2</td>\n",
       "      <td>0</td>\n",
       "      <td>No</td>\n",
       "      <td>0.052566</td>\n",
       "      <td>0.000000</td>\n",
       "      <td>0.170767</td>\n",
       "      <td>0.74359</td>\n",
       "      <td>0.0</td>\n",
       "      <td>Semiurban</td>\n",
       "    </tr>\n",
       "    <tr>\n",
       "      <th>507</th>\n",
       "      <td>1</td>\n",
       "      <td>0</td>\n",
       "      <td>0</td>\n",
       "      <td>0</td>\n",
       "      <td>No</td>\n",
       "      <td>0.042461</td>\n",
       "      <td>0.000000</td>\n",
       "      <td>0.125904</td>\n",
       "      <td>0.74359</td>\n",
       "      <td>1.0</td>\n",
       "      <td>Urban</td>\n",
       "    </tr>\n",
       "    <tr>\n",
       "      <th>328</th>\n",
       "      <td>0</td>\n",
       "      <td>1</td>\n",
       "      <td>0</td>\n",
       "      <td>0</td>\n",
       "      <td>No</td>\n",
       "      <td>0.051738</td>\n",
       "      <td>0.058824</td>\n",
       "      <td>0.146165</td>\n",
       "      <td>0.74359</td>\n",
       "      <td>1.0</td>\n",
       "      <td>Urban</td>\n",
       "    </tr>\n",
       "    <tr>\n",
       "      <th>609</th>\n",
       "      <td>0</td>\n",
       "      <td>0</td>\n",
       "      <td>0</td>\n",
       "      <td>0</td>\n",
       "      <td>No</td>\n",
       "      <td>0.034014</td>\n",
       "      <td>0.000000</td>\n",
       "      <td>0.089725</td>\n",
       "      <td>0.74359</td>\n",
       "      <td>1.0</td>\n",
       "      <td>Rural</td>\n",
       "    </tr>\n",
       "    <tr>\n",
       "      <th>69</th>\n",
       "      <td>0</td>\n",
       "      <td>0</td>\n",
       "      <td>0</td>\n",
       "      <td>0</td>\n",
       "      <td>No</td>\n",
       "      <td>0.051330</td>\n",
       "      <td>0.000000</td>\n",
       "      <td>0.183792</td>\n",
       "      <td>0.74359</td>\n",
       "      <td>0.0</td>\n",
       "      <td>Semiurban</td>\n",
       "    </tr>\n",
       "  </tbody>\n",
       "</table>\n",
       "</div>"
      ],
      "text/plain": [
       "     Gender  Married Dependents  Education SelfEmployed  ApplicantIncome  \\\n",
       "291       1        1          2          0           No         0.052566   \n",
       "507       1        0          0          0           No         0.042461   \n",
       "328       0        1          0          0           No         0.051738   \n",
       "609       0        0          0          0           No         0.034014   \n",
       "69        0        0          0          0           No         0.051330   \n",
       "\n",
       "     CoapplicantIncome  LoanAmount  LoanAmountTerm  CreditHistory PropertyArea  \n",
       "291           0.000000    0.170767         0.74359            0.0    Semiurban  \n",
       "507           0.000000    0.125904         0.74359            1.0        Urban  \n",
       "328           0.058824    0.146165         0.74359            1.0        Urban  \n",
       "609           0.000000    0.089725         0.74359            1.0        Rural  \n",
       "69            0.000000    0.183792         0.74359            0.0    Semiurban  "
      ]
     },
     "execution_count": 20,
     "metadata": {},
     "output_type": "execute_result"
    }
   ],
   "source": [
    "X_train.head()"
   ]
  },
  {
   "cell_type": "markdown",
   "metadata": {},
   "source": [
    "## 5.5. One-hot encoding\n",
    "\n",
    "Depending on the data, label encoding introduces a new problem. For example, we have encoded a set of `Gender` into numerical data. This is actually categorical data and there is no relation, of any kind, between the rows.\n",
    "The problem here is, since there are different numbers in the same column, the model will misunderstand the data and will be confused into thinking that there's some kind of order or hierarchy, 0 < 1 < 2. But this isn’t the case at all. To overcome this problem, we use One Hot Encoder.\n",
    "\n",
    "We mainly use one hot encoding with **nominal data**.\n",
    "\n",
    "One-hot encoding is one of the most common encoding methods in machine learning. This method spreads the values in a column to multiple flag columns and assigns 0 or 1 to them. These binary values express the relationship between grouped and encoded column.\n",
    "\n",
    "This method changes your categorical data, which is challenging to understand for algorithms, to a numerical format and enables you to group your categorical data without losing any information. \n",
    "\n",
    "<div class=\"item\">\n",
    "    <img src=\"figures/one-hot.png\" alt=\"one-hot\" width=\"600px\"/>\n",
    "    <span class=\"caption\">One hot encoding example on City column\n",
    "    </span>\n",
    "</div>\n",
    "\n",
    "In `sklearn`, we can use the `OneHotEncoder` class which creates a binary column for each category and returns a sparse matrix or dense array (depending on the sparse parameter). 2 important parameters:\n",
    "\n",
    "* **drop: ‘first’ or a array-like of shape (n_features,), default=None**\n",
    "\n",
    "    Specifies a methodology to use to drop one of the categories per feature. This is useful in situations where perfectly collinear features cause problems, such as when feeding the resulting data into a neural network or an unregularized regression.\n",
    "    \n",
    "    \n",
    "* **handle_unknown: {‘error’, ‘ignore’}, default=’error’**\n",
    "\n",
    "    Whether to raise an error or ignore if an unknown categorical feature is present during transform (default is to raise). When this parameter is set to ‘ignore’ and an unknown category is encountered during transform, the resulting one-hot encoded columns for this feature will be all zeros. "
   ]
  },
  {
   "cell_type": "code",
   "execution_count": 21,
   "metadata": {
    "scrolled": true
   },
   "outputs": [],
   "source": [
    "from sklearn.preprocessing import OneHotEncoder\n",
    "ohe = OneHotEncoder(drop = None, handle_unknown='ignore', sparse=False)\n",
    "\n",
    "# Define categorical to be one hot encoded\n",
    "ohe_cols = [\"Dependents\", \"SelfEmployed\", \"PropertyArea\"]\n",
    "\n",
    "# Encode categorical columns, and store results in a new dataframe\n",
    "X_train_encoded = pd.DataFrame(ohe.fit_transform(X_train[ohe_cols]), index=X_train.index)\n",
    "X_test_encoded = pd.DataFrame(ohe.transform(X_test[ohe_cols]), index=X_test.index)\n",
    "\n",
    "# Retrieve encoded columns names\n",
    "X_train_encoded.columns = ohe.get_feature_names(ohe_cols)\n",
    "X_test_encoded.columns = ohe.get_feature_names(ohe_cols)\n",
    "\n",
    "# Drop initial columns \n",
    "X_train.drop(ohe_cols ,axis=1, inplace=True)\n",
    "X_test.drop(ohe_cols ,axis=1, inplace=True)\n",
    "\n",
    "# Add encoded columns to initial dataset\n",
    "X_train = pd.concat([X_train, X_train_encoded], axis=1)\n",
    "X_test = pd.concat([X_test, X_test_encoded ], axis=1)"
   ]
  },
  {
   "cell_type": "code",
   "execution_count": 22,
   "metadata": {},
   "outputs": [
    {
     "data": {
      "text/html": [
       "<div>\n",
       "<style scoped>\n",
       "    .dataframe tbody tr th:only-of-type {\n",
       "        vertical-align: middle;\n",
       "    }\n",
       "\n",
       "    .dataframe tbody tr th {\n",
       "        vertical-align: top;\n",
       "    }\n",
       "\n",
       "    .dataframe thead th {\n",
       "        text-align: right;\n",
       "    }\n",
       "</style>\n",
       "<table border=\"1\" class=\"dataframe\">\n",
       "  <thead>\n",
       "    <tr style=\"text-align: right;\">\n",
       "      <th></th>\n",
       "      <th>Gender</th>\n",
       "      <th>Married</th>\n",
       "      <th>Education</th>\n",
       "      <th>ApplicantIncome</th>\n",
       "      <th>CoapplicantIncome</th>\n",
       "      <th>LoanAmount</th>\n",
       "      <th>LoanAmountTerm</th>\n",
       "      <th>CreditHistory</th>\n",
       "      <th>Dependents_0</th>\n",
       "      <th>Dependents_1</th>\n",
       "      <th>Dependents_2</th>\n",
       "      <th>Dependents_3+</th>\n",
       "      <th>SelfEmployed_No</th>\n",
       "      <th>SelfEmployed_UNK</th>\n",
       "      <th>SelfEmployed_Yes</th>\n",
       "      <th>PropertyArea_Rural</th>\n",
       "      <th>PropertyArea_Semiurban</th>\n",
       "      <th>PropertyArea_Urban</th>\n",
       "    </tr>\n",
       "  </thead>\n",
       "  <tbody>\n",
       "    <tr>\n",
       "      <th>291</th>\n",
       "      <td>1</td>\n",
       "      <td>1</td>\n",
       "      <td>0</td>\n",
       "      <td>0.052566</td>\n",
       "      <td>0.000000</td>\n",
       "      <td>0.170767</td>\n",
       "      <td>0.74359</td>\n",
       "      <td>0.0</td>\n",
       "      <td>0.0</td>\n",
       "      <td>0.0</td>\n",
       "      <td>1.0</td>\n",
       "      <td>0.0</td>\n",
       "      <td>1.0</td>\n",
       "      <td>0.0</td>\n",
       "      <td>0.0</td>\n",
       "      <td>0.0</td>\n",
       "      <td>1.0</td>\n",
       "      <td>0.0</td>\n",
       "    </tr>\n",
       "    <tr>\n",
       "      <th>507</th>\n",
       "      <td>1</td>\n",
       "      <td>0</td>\n",
       "      <td>0</td>\n",
       "      <td>0.042461</td>\n",
       "      <td>0.000000</td>\n",
       "      <td>0.125904</td>\n",
       "      <td>0.74359</td>\n",
       "      <td>1.0</td>\n",
       "      <td>1.0</td>\n",
       "      <td>0.0</td>\n",
       "      <td>0.0</td>\n",
       "      <td>0.0</td>\n",
       "      <td>1.0</td>\n",
       "      <td>0.0</td>\n",
       "      <td>0.0</td>\n",
       "      <td>0.0</td>\n",
       "      <td>0.0</td>\n",
       "      <td>1.0</td>\n",
       "    </tr>\n",
       "    <tr>\n",
       "      <th>328</th>\n",
       "      <td>0</td>\n",
       "      <td>1</td>\n",
       "      <td>0</td>\n",
       "      <td>0.051738</td>\n",
       "      <td>0.058824</td>\n",
       "      <td>0.146165</td>\n",
       "      <td>0.74359</td>\n",
       "      <td>1.0</td>\n",
       "      <td>1.0</td>\n",
       "      <td>0.0</td>\n",
       "      <td>0.0</td>\n",
       "      <td>0.0</td>\n",
       "      <td>1.0</td>\n",
       "      <td>0.0</td>\n",
       "      <td>0.0</td>\n",
       "      <td>0.0</td>\n",
       "      <td>0.0</td>\n",
       "      <td>1.0</td>\n",
       "    </tr>\n",
       "    <tr>\n",
       "      <th>609</th>\n",
       "      <td>0</td>\n",
       "      <td>0</td>\n",
       "      <td>0</td>\n",
       "      <td>0.034014</td>\n",
       "      <td>0.000000</td>\n",
       "      <td>0.089725</td>\n",
       "      <td>0.74359</td>\n",
       "      <td>1.0</td>\n",
       "      <td>1.0</td>\n",
       "      <td>0.0</td>\n",
       "      <td>0.0</td>\n",
       "      <td>0.0</td>\n",
       "      <td>1.0</td>\n",
       "      <td>0.0</td>\n",
       "      <td>0.0</td>\n",
       "      <td>1.0</td>\n",
       "      <td>0.0</td>\n",
       "      <td>0.0</td>\n",
       "    </tr>\n",
       "    <tr>\n",
       "      <th>69</th>\n",
       "      <td>0</td>\n",
       "      <td>0</td>\n",
       "      <td>0</td>\n",
       "      <td>0.051330</td>\n",
       "      <td>0.000000</td>\n",
       "      <td>0.183792</td>\n",
       "      <td>0.74359</td>\n",
       "      <td>0.0</td>\n",
       "      <td>1.0</td>\n",
       "      <td>0.0</td>\n",
       "      <td>0.0</td>\n",
       "      <td>0.0</td>\n",
       "      <td>1.0</td>\n",
       "      <td>0.0</td>\n",
       "      <td>0.0</td>\n",
       "      <td>0.0</td>\n",
       "      <td>1.0</td>\n",
       "      <td>0.0</td>\n",
       "    </tr>\n",
       "  </tbody>\n",
       "</table>\n",
       "</div>"
      ],
      "text/plain": [
       "     Gender  Married  Education  ApplicantIncome  CoapplicantIncome  \\\n",
       "291       1        1          0         0.052566           0.000000   \n",
       "507       1        0          0         0.042461           0.000000   \n",
       "328       0        1          0         0.051738           0.058824   \n",
       "609       0        0          0         0.034014           0.000000   \n",
       "69        0        0          0         0.051330           0.000000   \n",
       "\n",
       "     LoanAmount  LoanAmountTerm  CreditHistory  Dependents_0  Dependents_1  \\\n",
       "291    0.170767         0.74359            0.0           0.0           0.0   \n",
       "507    0.125904         0.74359            1.0           1.0           0.0   \n",
       "328    0.146165         0.74359            1.0           1.0           0.0   \n",
       "609    0.089725         0.74359            1.0           1.0           0.0   \n",
       "69     0.183792         0.74359            0.0           1.0           0.0   \n",
       "\n",
       "     Dependents_2  Dependents_3+  SelfEmployed_No  SelfEmployed_UNK  \\\n",
       "291           1.0            0.0              1.0               0.0   \n",
       "507           0.0            0.0              1.0               0.0   \n",
       "328           0.0            0.0              1.0               0.0   \n",
       "609           0.0            0.0              1.0               0.0   \n",
       "69            0.0            0.0              1.0               0.0   \n",
       "\n",
       "     SelfEmployed_Yes  PropertyArea_Rural  PropertyArea_Semiurban  \\\n",
       "291               0.0                 0.0                     1.0   \n",
       "507               0.0                 0.0                     0.0   \n",
       "328               0.0                 0.0                     0.0   \n",
       "609               0.0                 1.0                     0.0   \n",
       "69                0.0                 0.0                     1.0   \n",
       "\n",
       "     PropertyArea_Urban  \n",
       "291                 0.0  \n",
       "507                 1.0  \n",
       "328                 1.0  \n",
       "609                 0.0  \n",
       "69                  0.0  "
      ]
     },
     "execution_count": 22,
     "metadata": {},
     "output_type": "execute_result"
    }
   ],
   "source": [
    "X_train.head()"
   ]
  },
  {
   "cell_type": "markdown",
   "metadata": {},
   "source": [
    "## 5.6. Feature Interactions\n",
    "\n",
    "### 5.6.1. Polynomial Features\n",
    "\n",
    "So far, we've seen linear hypothesis functions. But what if our hypothesis function (a straight line) does not fit the data well? \n",
    "\n",
    "In statistics, polynomial regression is a form of regression analysis in which the relationship between the independent variable $x$ and the dependent variable $y$ is modeled as an $nth$ degree polynomial in $x$. Polynomial regression fits a nonlinear relationship between the value of $x$ and the corresponding output $h_{\\theta}(x)$. Although polynomial regression fits a nonlinear model to the data, as a statistical estimation problem it is linear, in the sense that the regression function $h_{\\theta}$ is linear as a function of the unknown parameters that are estimated from the data. For this reason, polynomial regression is considered to be a special case of multiple linear regression.\n",
    "\n",
    "For example, if our hypothesis function is $h_\\theta(x) = \\theta_0 + \\theta_1 x_1$, then we can create additional features based on $x_1$, to get the quadratic function $h_\\theta(x) = \\theta_0 + \\theta_1 x_1 + \\theta_2 x_1^2$ or the cubic function $h_\\theta(x) = \\theta_0 + \\theta_1 x_1 + \\theta_2 x_1^2 + \\theta_3 x_1^3$.\n",
    "\n",
    "In the cubic version, we have created new features $x_2$ and $x_3$ where $x_2 = x_1^2$ and $x_3 = x_1^3$.\n",
    "\n",
    "### 5.6.2. Interaction Terms\n",
    "\n",
    "We can combine multiple features into one. For example, we can combine two features $x_1$ and $x_2$ into a new feature $x_3 = x_1 \\times x_2$. This could be interesting when the effect on $y$ of increasing $x_1$ depends on another feature $x_2$. $x_1 \\times x_2$ is the **interaction term**.\n",
    "\n",
    "### 5.6.3. Square Root Features\n",
    "\n",
    "To make it a square root function, we could use: $h_\\theta(x) = \\theta_0 + \\theta_1 x_1 + \\theta_2 \\sqrt{x_1}$."
   ]
  },
  {
   "cell_type": "markdown",
   "metadata": {},
   "source": [
    "## 5.7. Other feature engineering techniques & references\n",
    "\n",
    "The aim of this section is to familiarize you with the basic feature engineering techniques and have a deeper understanding of the situations of where to apply those techniques.\n",
    "\n",
    "These methods work because of the underlying assumptions of the algorithms. This is by no means an exhaustive list of the methods. Other type of preprocessing techniques include:\n",
    "\n",
    "### 5.7.1. Handling outliers\n",
    "\n",
    "Data outliers can spoil and mislead the training process resulting in longer training times, less accurate models and ultimately poorer results.\n",
    "\n",
    "Before mentioning some techniques for how outliers can be handled, It's good to state that the best way to detect the outliers is to demonstrate the data visually. All other statistical methodologies are open to making mistakes, whereas visualizing the outliers might give a chance to take a decision with high precision.\n",
    "\n",
    "There are many different methods of dealing with outliers, here are some popular techniques:\n",
    "\n",
    "* **Univariate method**: This method looks for data points with extreme values on one variable.\n",
    "\n",
    "    For more details about the statistical methods used for outlier detection, check [this blog](http://colingorrie.github.io/outlier-detection.html)\n",
    "\n",
    "\n",
    "* **Multivariate method**: Here we look for unusual combinations on all the variables.\n",
    "\n",
    "<div class=\"item\">\n",
    "    <img src=\"figures/multivariate-outlier-example.jpg\" alt=\"multivariate-outlier-example\" width=\"500px\"/>\n",
    "</div>\n",
    "\n",
    "* **Minkowski error**: This method reduces the contribution of potential outliers in the training process.\n",
    "\n",
    "    Unlike the univariate and multivariate methods, it doesn't detect and clean the outliers. Instead, it reduces the impact that outliers will have in the model.\n",
    "\n",
    "    The Minkowski error is a loss index that is more insensitive to outliers than the standard mean squared error. The mean squared error raises each instance error to the square, making a too big contribution of outliers to the total error. The Minkowski error solves that by raising each instance error to a number smaller than 2, for instance 1.5. This reduces the contribution of outliers to the total error. \n",
    "\n",
    "\n",
    "### 5.7.2. Binning/Bucketing\n",
    "\n",
    "Binning can be applied on both categorical and numerical data:\n",
    "\n",
    "\n",
    "<div class=\"item\">\n",
    "    <img src=\"figures/binning.png\" alt=\"binning\" width=\"400px\" style=\"padding:20px;\"/>\n",
    "</div>\n",
    "\n",
    "\n",
    "If you choose to bucketize your numerical features, be clear about how you are setting the boundaries and which type of bucketing you’re applying:\n",
    "\n",
    "* **Buckets with equally spaced boundaries**: the boundaries are fixed and encompass the same range (for example, 0-4 degrees, 5-9 degrees, and 10-14 degrees). Some buckets could contain many points, while others could have few or none.\n",
    "\n",
    "* **Buckets with quantile boundaries**: each bucket has the same number of points. The boundaries are not fixed and could encompass a narrow or wide span of values. \n",
    "\n",
    "<div class=\"row\">\n",
    "  <div class=\"column\">\n",
    "    <img src=\"figures/bucketizing-1.svg\" alt=\"bucketizing-1\"/>\n",
    "  </div>\n",
    "  <div class=\"column\">\n",
    "     <img src=\"figures/bucketizing-2.svg\" alt=\"bucketizing-2\"/>\n",
    "  </div>\n",
    "</div>\n",
    "    \n",
    "\n",
    "\n",
    "Bucketing with equally spaced boundaries is an easy method that works for a lot of data distributions. For skewed data, however, try bucketing with quantile bucketing.\n",
    "\n",
    "### 5.7.3. Log transform\n",
    "\n",
    "Logarithm transformation is one of the most commonly used mathematical transformations in feature engineering. What are the benefits of log transform:\n",
    "\n",
    "It helps to handle skewed data and after transformation, the distribution becomes more approximate to normal.\n",
    "In most of the cases the magnitude order of the data changes within the range of the data. For instance, the difference between the ages of 15 and 20 is not equal to the ages 65 and 70. In terms of years, yes, they are identical, but for all other aspects, 5 years of difference in young ages mean a higher magnitude difference. This type of data comes from a multiplicative process and log transform normalizes the magnitude differences like that.\n",
    "\n",
    "It also decreases the effect of the outliers, due to the normalization of magnitude differences and the model becomes more robust.\n",
    "\n",
    "A critical note: The data you apply log transform must have only positive values, otherwise you receive an error. Also, you can add 1 to your data before transforming it. Thus, you ensure the output of the transformation to be positive."
   ]
  },
  {
   "cell_type": "markdown",
   "metadata": {},
   "source": [
    "## 5.8. Tensorflow Feature Columns\n",
    "\n",
    "We'll see more in next chapter."
   ]
  }
 ],
 "metadata": {
  "kernelspec": {
   "display_name": "dl-venv",
   "language": "python",
   "name": "dl-venv"
  },
  "language_info": {
   "codemirror_mode": {
    "name": "ipython",
    "version": 3
   },
   "file_extension": ".py",
   "mimetype": "text/x-python",
   "name": "python",
   "nbconvert_exporter": "python",
   "pygments_lexer": "ipython3",
   "version": "3.7.7"
  }
 },
 "nbformat": 4,
 "nbformat_minor": 2
}
